{
 "cells": [
  {
   "cell_type": "code",
   "execution_count": 1,
   "metadata": {},
   "outputs": [
    {
     "name": "stdout",
     "output_type": "stream",
     "text": [
      "Populating the interactive namespace from numpy and matplotlib\n"
     ]
    }
   ],
   "source": [
    "import torch\n",
    "import inspect\n",
    "import torch.optim as optim\n",
    "import torch.utils.data\n",
    "import torch.nn as nn\n",
    "import torch.nn.functional as F\n",
    "import torch.nn.modules.activation as A\n",
    "from tqdm import tqdm\n",
    "%pylab inline"
   ]
  },
  {
   "cell_type": "code",
   "execution_count": 2,
   "metadata": {},
   "outputs": [
    {
     "data": {
      "text/plain": [
       "numpy.ndarray"
      ]
     },
     "execution_count": 2,
     "metadata": {},
     "output_type": "execute_result"
    },
    {
     "data": {
      "image/png": "[encoded data removed]",
      "text/plain": [
       "<matplotlib.figure.Figure at 0x119875c88>"
      ]
     },
     "metadata": {},
     "output_type": "display_data"
    }
   ],
   "source": [
    "def unpickle(file):\n",
    "    import pickle\n",
    "    with open(file, 'rb') as fo:\n",
    "        dict = pickle.load(fo, encoding='bytes')\n",
    "    return dict\n",
    "\n",
    "cifar10_path = \"./cifar-10-batches-py/\"\n",
    "batch1 = unpickle(cifar10_path + 'data_batch_1')\n",
    "import matplotlib.pyplot as plt\n",
    "b = batch1[b'data'][4].reshape(3, 32, 32).transpose(1,2,0).astype(\"uint8\")\n",
    "# plt.imshow(b)\n",
    "b1_reshaped = batch1[b'data'].reshape(batch1[b'data'].shape[0], 3, 32, 32)\n",
    "b1_reshaped[0].shape\n",
    "plt.imshow(b1_reshaped[1000].transpose(1, 2, 0))\n",
    "type(b1_reshaped)"
   ]
  },
  {
   "cell_type": "code",
   "execution_count": 3,
   "metadata": {
    "collapsed": true
   },
   "outputs": [],
   "source": [
    "def makeChannels(max_channel, reverse=False, num_channels=3):\n",
    "    assert max_channel % 2==0\n",
    "    channels = [max_channel] # Stores channels for layers 1->4\n",
    "    for i in range(1,num_channels):\n",
    "        channels.append(channels[i-1]//2)\n",
    "    if reverse:\n",
    "        channels.reverse()\n",
    "        return channels\n",
    "    return channels\n",
    "\n",
    "class GeneratorNet(nn.Module):\n",
    "    def __init__(self, cz=100, gf_dim=64):\n",
    "        super(GeneratorNet, self).__init__()\n",
    "        channels = makeChannels(4*gf_dim, reverse=True)\n",
    "        self.model = nn.Sequential(\n",
    "            # Project and reshape\n",
    "            nn.ConvTranspose2d(cz, channels[0], 4, 1, 0, bias=False),\n",
    "            A.ReLU(),\n",
    "            nn.BatchNorm2d(channels[0]),\n",
    "            # Conv1. (?, channels[0], 4, 4) -> (?, channels[1], 8, 8)\n",
    "            nn.ConvTranspose2d(channels[0], channels[1], 4, 2, 1, bias=True),\n",
    "            A.ReLU(),\n",
    "            nn.BatchNorm2d(channels[1]),\n",
    "            # Conv2. (?, channels[1], 8, 8) -> (?, channels[2], 16, 16)\n",
    "            nn.ConvTranspose2d(channels[1], channels[2], 4, 2, 1, bias=True),\n",
    "            A.ReLU(),\n",
    "            nn.BatchNorm2d(channels[2]),\n",
    "            # Conv3. (?, channels[2], 16, 16) -> (?, channels[3], 32, 32)\n",
    "#             nn.ConvTranspose2d(channels[2], channels[3], 4, 2, 1, bias=True),\n",
    "#             A.ReLU(),\n",
    "#             nn.BatchNorm2d(channels[3]),\n",
    "            # Conv4. (?, channels[3], 32, 32) -> (?, 3, 64, 64)\n",
    "            nn.ConvTranspose2d(channels[2], 3, 4, 2, 1, bias=True),\n",
    "            A.Tanh()\n",
    "        )\n",
    "        \n",
    "    def forward(self, z):\n",
    "        \"\"\"\n",
    "        Input: \n",
    "            - z: minibatch of 1D noise vectors/\"codes\"\n",
    "        Shapes:\n",
    "            - z: (N, C) where N is batch_size and C is channels of z.\n",
    "        \"\"\"\n",
    "        return self.model(z)\n",
    "\n",
    "class DiscriminatorNet(nn.Module):\n",
    "    def __init__(self, gf_dim=64):\n",
    "        super(DiscriminatorNet, self).__init__()\n",
    "        channels = makeChannels(4*gf_dim)\n",
    "        self.model = nn.Sequential(\n",
    "            # Project image \n",
    "            nn.Conv2d(3, channels[0], 4, 2, 1, bias=True),\n",
    "            nn.LeakyReLU(0.2),\n",
    "            nn.Conv2d(channels[0], channels[1], 4, 2, 1, bias=True),\n",
    "            nn.LeakyReLU(0.2),\n",
    "            nn.BatchNorm2d(channels[1]),\n",
    "            nn.Conv2d(channels[1], channels[2], 4, 2, 1, bias=True),\n",
    "            nn.BatchNorm2d(channels[2]),\n",
    "#             nn.Conv2d(channels[2], channels[3], 4, 1, 0, bias=True),\n",
    "            nn.Conv2d(channels[2], 1, 4, 1, 0, bias=True),\n",
    "            nn.Sigmoid()\n",
    "#             nn.BatchNorm2d(channels[3]),\n",
    "        )\n",
    "        \n",
    "    def forward(self, x):\n",
    "        return self.model(x)"
   ]
  },
  {
   "cell_type": "code",
   "execution_count": null,
   "metadata": {},
   "outputs": [],
   "source": [
    "batch_size=32\n",
    "dataset = torch.utils.data.TensorDataset(torch.from_numpy(b1_reshaped))\n",
    "dataloader = torch.utils.data.DataLoader(dataset, batch_size=batch_size, shuffle=True)\n",
    "torch.from_numpy(b1_reshaped).shape"
   ]
  },
  {
   "cell_type": "code",
   "execution_count": null,
   "metadata": {},
   "outputs": [],
   "source": [
    "device = torch.device(\"cuda:0\" if torch.cuda.is_available() else \"cpu\")\n",
    "G=GeneratorNet(cz=100, gf_dim=64)\n",
    "D=DiscriminatorNet()\n",
    "\n",
    "gopt = optim.Adam(G.parameters())\n",
    "dopt = optim.Adam(D.parameters())\n",
    "\n",
    "criterion = nn.BCELoss(reduction='elementwise_mean')\n",
    "\n",
    "mbatch_mod = 300\n",
    "epoch_mod = 2\n",
    "for epoch in range(5):\n",
    "    running_loss = 0.0\n",
    "    for mbatch_idx, x in enumerate(dataloader):\n",
    "        ##############################\n",
    "        # Update discriminator \n",
    "        ##############################\n",
    "        x = x[0]\n",
    "        x = x.to(device, dtype=torch.float32)\n",
    "        import ipdb; ipdb.set_trace()\n",
    "        real_loss = criterion(D(x), torch.ones(x.shape))\n",
    "        real_loss.backward()\n",
    "        \n",
    "        z = torch.Tensor(x.shape).uniform_(0, 1)\n",
    "        generated_loss = criterion(D(G(z)), torch.zeros([batch_size, 1, 1, 1]))\n",
    "        generated_loss.backward()\n",
    "\n",
    "        dloss = real_loss.item() + generated_loss.item()\n",
    "\n",
    "        dopt.step()\n",
    "        dopt.zero_grad()\n",
    "        \n",
    "        ##############################\n",
    "        # Update generator\n",
    "        ##############################\n",
    "        z = torch.Tensor(x.shape).uniform_(0, 1)\n",
    "        gloss = torch.Tensor([-1]) * criterion(D(G(z)), torch.zeros(x.shape))   \n",
    "        gloss.backward()\n",
    "        \n",
    "        gopt.step()\n",
    "        gopt.zero_grad()\n",
    "        \n",
    "        if (mbatch_idx % mbatch_mod == 0 and mbatch_idx > 0 and epoch % epoch_mod == 0):\n",
    "            print(F\"Epoch: {epoch}, minibatch: {mbatch_idx}, DLoss: {dloss}, GLoss: {gloss}\")\n",
    "            running_loss = 0.0"
   ]
  },
  {
   "cell_type": "code",
   "execution_count": 90,
   "metadata": {},
   "outputs": [
    {
     "data": {
      "text/plain": [
       "tensor([[1.],\n",
       "        [1.],\n",
       "        [1.],\n",
       "        [1.],\n",
       "        [1.]])"
      ]
     },
     "execution_count": 90,
     "metadata": {},
     "output_type": "execute_result"
    }
   ],
   "source": [
    "# plot(X.numpy())\n",
    "# plot(Y.numpy())\n",
    "# plot(gnet(X).data.numpy())"
   ]
  },
  {
   "cell_type": "code",
   "execution_count": 27,
   "metadata": {},
   "outputs": [
    {
     "name": "stderr",
     "output_type": "stream",
     "text": [
      "/Users/richard/anaconda3/lib/python3.6/site-packages/torch/nn/functional.py:1006: UserWarning: nn.functional.sigmoid is deprecated. Use torch.sigmoid instead.\n",
      "  warnings.warn(\"nn.functional.sigmoid is deprecated. Use torch.sigmoid instead.\")\n"
     ]
    },
    {
     "data": {
      "text/plain": [
       "tensor(-15.9424, grad_fn=<ThAddBackward>)"
      ]
     },
     "execution_count": 27,
     "metadata": {},
     "output_type": "execute_result"
    }
   ],
   "source": [
    "dl(torch.unsqueeze(torch.ones(10), dim=1), torch.unsqueeze(torch.ones(10), dim=1))"
   ]
  },
  {
   "cell_type": "code",
   "execution_count": 98,
   "metadata": {},
   "outputs": [
    {
     "data": {
      "text/plain": [
       "tensor([-3., -3., -1.])"
      ]
     },
     "execution_count": 98,
     "metadata": {},
     "output_type": "execute_result"
    }
   ],
   "source": [
    "torch.Tensor([-1]) * torch.Tensor([3, 3, 1])"
   ]
  },
  {
   "cell_type": "code",
   "execution_count": null,
   "metadata": {
    "collapsed": true
   },
   "outputs": [],
   "source": []
  }
 ],
 "metadata": {
  "kernelspec": {
   "display_name": "Python 3",
   "language": "python",
   "name": "python3"
  },
  "language_info": {
   "codemirror_mode": {
    "name": "ipython",
    "version": 3
   },
   "file_extension": ".py",
   "mimetype": "text/x-python",
   "name": "python",
   "nbconvert_exporter": "python",
   "pygments_lexer": "ipython3",
   "version": "3.6.3"
  }
 },
 "nbformat": 4,
 "nbformat_minor": 2
}
