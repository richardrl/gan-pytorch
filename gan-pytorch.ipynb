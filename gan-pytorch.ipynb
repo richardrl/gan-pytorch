{
 "cells": [
  {
   "cell_type": "code",
   "execution_count": 38,
   "metadata": {},
   "outputs": [
    {
     "name": "stdout",
     "output_type": "stream",
     "text": [
      "Populating the interactive namespace from numpy and matplotlib\n"
     ]
    }
   ],
   "source": [
    "import torch\n",
    "import inspect\n",
    "import torch.optim as optim\n",
    "import torch.utils.data\n",
    "import torch.nn as nn\n",
    "import torch.nn.functional as F\n",
    "import torch.nn.modules.activation as A\n",
    "%pylab inline"
   ]
  },
  {
   "cell_type": "code",
   "execution_count": 49,
   "metadata": {},
   "outputs": [],
   "source": [
    "class GeneratorNet(nn.Module):\n",
    "    def __init__(self, cz=100, gf_dim=64):\n",
    "        super(GeneratorNet, self).__init__()\n",
    "        start_channel = 16*gf_dim\n",
    "        assert start_channel % 2==0\n",
    "        channels = [start_channel] # Stores channels for layers 1->4\n",
    "        for i in range(1,4):\n",
    "            channels.append(channels[i-1]//2)\n",
    "        self.model = nn.Sequential(\n",
    "            # Project and reshape\n",
    "            nn.ConvTranspose2d(cz, channels[0], 4, 1, 0, bias=False),\n",
    "            A.ReLU(),\n",
    "            nn.BatchNorm2d(channels[0]),\n",
    "            # Conv1. (?, channels[0], 4, 4) -> (?, channels[1], 8, 8)\n",
    "            nn.ConvTranspose2d(channels[0], channels[1], 4, 2, 1, bias=True),\n",
    "            A.ReLU(),\n",
    "            nn.BatchNorm2d(channels[1]),\n",
    "            # Conv2. (?, channels[1], 8, 8) -> (?, channels[2], 16, 16)\n",
    "            nn.ConvTranspose2d(channels[1], channels[2], 4, 2, 1, bias=True),\n",
    "            A.ReLU(),\n",
    "            nn.BatchNorm2d(channels[2]),\n",
    "            # Conv3. (?, channels[2], 16, 16) -> (?, channels[3], 32, 32)\n",
    "            nn.ConvTranspose2d(channels[2], channels[3], 4, 2, 1, bias=True),\n",
    "            A.ReLU(),\n",
    "            nn.BatchNorm2d(channels[3]),\n",
    "            # Conv4. (?, channels[3], 32, 32) -> (?, 3, 64, 64)\n",
    "            nn.ConvTranspose2d(channels[3], 3, 2, 1, bias=True),\n",
    "            A.Tanh()\n",
    "        )\n",
    "        \n",
    "    def forward(self, z):\n",
    "        \"\"\"\n",
    "        Input: \n",
    "            - z: minibatch of 1D noise vectors/\"codes\"\n",
    "        Shapes:\n",
    "            - z: (N, C) where N is batch_size and C is channels of z.\n",
    "        \"\"\"\n",
    "        return self.model(z)"
   ]
  },
  {
   "cell_type": "code",
   "execution_count": null,
   "metadata": {},
   "outputs": [],
   "source": [
    "Z = torch.sort(torch.Tensor(16384, 100, 1, 1).uniform_(-1, 1), dim=0)[0]\n",
    "Y = torch.sort(torch.Tensor(16384, 1).normal_(), dim=0)[0]\n",
    "# Y = torch.sort(torch.Tensor(16384, 1).uniform_(2, 3), dim=0)[0]\n",
    "dataset = torch.utils.data.TensorDataset(Z, Y)\n",
    "dataloader = torch.utils.data.DataLoader(dataset, batch_size=32, shuffle=True)\n",
    "criterion = torch.nn.MSELoss()\n",
    "gnet=GeneratorNet(cz=100, gf_dim=64)\n",
    "test_z = list(dataloader)[0][0]\n",
    "gnet(test_z)"
   ]
  },
  {
   "cell_type": "code",
   "execution_count": null,
   "metadata": {},
   "outputs": [],
   "source": [
    "gnet = GeneratorNet()\n",
    "optimizer = optim.Adam(gnet.parameters())\n",
    "\n",
    "batch_mod = 300\n",
    "epoch_mod = 2\n",
    "for epoch in range(5):\n",
    "    running_loss = 0.0\n",
    "    for batch_idx, data in enumerate(dataloader):\n",
    "        inputs, labels = data\n",
    "        outputs = gnet(inputs)\n",
    "        loss = criterion(outputs, labels)\n",
    "        loss.backward()\n",
    "        optimizer.step()\n",
    "        optimizer.zero_grad() # Why...\n",
    "        running_loss += loss.item()\n",
    "        if (batch_idx % batch_mod == 0 and batch_idx > 0 and epoch % epoch_mod == 0):\n",
    "            print(F\"Epoch: {epoch}, Batch: {batch_idx}, Loss: {running_loss/batch_mod}\")\n",
    "            running_loss = 0.0"
   ]
  },
  {
   "cell_type": "code",
   "execution_count": 7,
   "metadata": {},
   "outputs": [
    {
     "name": "stderr",
     "output_type": "stream",
     "text": [
      "/Users/richard/anaconda3/lib/python3.6/site-packages/torch/nn/functional.py:1006: UserWarning: nn.functional.sigmoid is deprecated. Use torch.sigmoid instead.\n",
      "  warnings.warn(\"nn.functional.sigmoid is deprecated. Use torch.sigmoid instead.\")\n"
     ]
    },
    {
     "data": {
      "text/plain": [
       "[<matplotlib.lines.Line2D at 0x110aaac50>]"
      ]
     },
     "execution_count": 7,
     "metadata": {},
     "output_type": "execute_result"
    },
    {
     "data": {
      "image/png": "[encoded data removed]",
      "text/plain": [
       "<matplotlib.figure.Figure at 0x110a7e710>"
      ]
     },
     "metadata": {},
     "output_type": "display_data"
    }
   ],
   "source": [
    "plot(X.numpy())\n",
    "plot(Y.numpy())\n",
    "plot(gnet(X).data.numpy())"
   ]
  },
  {
   "cell_type": "code",
   "execution_count": 18,
   "metadata": {},
   "outputs": [],
   "source": [
    "class GeneratorLoss(torch.nn.Module):\n",
    "    \"\"\"Creates a criterion that measures the average log complements, across noise samples 'z', \n",
    "    of the discriminator D(.) applied to the generated sample G(z_i).\n",
    "\n",
    "    Args: \n",
    "        - generator: Generator network.\n",
    "        - discriminator: Discriminator network.\n",
    "\n",
    "    Shape:\n",
    "        - z: (N, *)  where N is minibatch size and `*` means any number of additional dimensions\n",
    "    \"\"\"\n",
    "    def __init__(self, generator, discriminator):\n",
    "        super(GeneratorLoss, self).__init__()\n",
    "        self.G = generator\n",
    "        self.D = discriminator\n",
    "\n",
    "    def forward(self, z):\n",
    "#         import ipdb; ipdb.set_trace()\n",
    "        return torch.mean(torch.log(1-self.D(self.G(z)) + (2**-23)))"
   ]
  },
  {
   "cell_type": "code",
   "execution_count": 25,
   "metadata": {
    "collapsed": true
   },
   "outputs": [],
   "source": [
    "class DiscriminatorLoss(torch.nn.Module):\n",
    "    def __init__(self, discriminator, generator_loss):\n",
    "        super(DiscriminatorLoss, self).__init__()\n",
    "        self.D = discriminator\n",
    "        self.GL = generator_loss\n",
    "    \n",
    "    def forward(self, x, z):\n",
    "        assert x.shape[0] == z.shape[0]\n",
    "        return torch.mean(torch.log(self.D(x)))+self.GL(z)"
   ]
  },
  {
   "cell_type": "code",
   "execution_count": 26,
   "metadata": {
    "collapsed": true
   },
   "outputs": [],
   "source": [
    "gl = GeneratorLoss(gnet, gnet)\n",
    "dl = DiscriminatorLoss(gnet, gl)"
   ]
  },
  {
   "cell_type": "code",
   "execution_count": 27,
   "metadata": {},
   "outputs": [
    {
     "name": "stderr",
     "output_type": "stream",
     "text": [
      "/Users/richard/anaconda3/lib/python3.6/site-packages/torch/nn/functional.py:1006: UserWarning: nn.functional.sigmoid is deprecated. Use torch.sigmoid instead.\n",
      "  warnings.warn(\"nn.functional.sigmoid is deprecated. Use torch.sigmoid instead.\")\n"
     ]
    },
    {
     "data": {
      "text/plain": [
       "tensor(-15.9424, grad_fn=<ThAddBackward>)"
      ]
     },
     "execution_count": 27,
     "metadata": {},
     "output_type": "execute_result"
    }
   ],
   "source": [
    "dl(torch.unsqueeze(torch.ones(10), dim=1), torch.unsqueeze(torch.ones(10), dim=1))"
   ]
  },
  {
   "cell_type": "code",
   "execution_count": null,
   "metadata": {
    "collapsed": true
   },
   "outputs": [],
   "source": []
  }
 ],
 "metadata": {
  "kernelspec": {
   "display_name": "Python 3",
   "language": "python",
   "name": "python3"
  },
  "language_info": {
   "codemirror_mode": {
    "name": "ipython",
    "version": 3
   },
   "file_extension": ".py",
   "mimetype": "text/x-python",
   "name": "python",
   "nbconvert_exporter": "python",
   "pygments_lexer": "ipython3",
   "version": "3.6.3"
  }
 },
 "nbformat": 4,
 "nbformat_minor": 2
}
