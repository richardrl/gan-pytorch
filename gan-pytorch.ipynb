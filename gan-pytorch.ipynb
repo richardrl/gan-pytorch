{
 "cells": [
  {
   "cell_type": "code",
   "execution_count": 11,
   "metadata": {},
   "outputs": [
    {
     "name": "stdout",
     "output_type": "stream",
     "text": [
      "Populating the interactive namespace from numpy and matplotlib\n"
     ]
    }
   ],
   "source": [
    "import torch\n",
    "import inspect\n",
    "import torch.optim as optim\n",
    "import torch.utils.data\n",
    "import torch.nn\n",
    "import torch.nn.functional as F\n",
    "%pylab inline"
   ]
  },
  {
   "cell_type": "code",
   "execution_count": 106,
   "metadata": {},
   "outputs": [],
   "source": [
    "class GeneratorNet(torch.nn.Module):\n",
    "    def __init__(self):\n",
    "        super(GeneratorNet, self).__init__()\n",
    "        self.fc1 = torch.nn.Linear(1, 64)\n",
    "        self.fc2 = torch.nn.Linear(64, 64)\n",
    "        self.fc3 = torch.nn.Linear(64, 64)\n",
    "        self.fc4 = torch.nn.Linear(64, 64)\n",
    "        self.fc5 = torch.nn.Linear(64, 1)\n",
    "\n",
    "    def forward(self, x):\n",
    "        x = F.softplus(self.fc1(x))\n",
    "        x = F.softplus(self.fc2(x))\n",
    "        x = F.softplus(self.fc3(x))\n",
    "        x = F.softplus(self.fc4(x))\n",
    "        x = self.fc5(x)\n",
    "        return x\n",
    "\n",
    "gnet = GeneratorNet()"
   ]
  },
  {
   "cell_type": "code",
   "execution_count": 85,
   "metadata": {
    "collapsed": true
   },
   "outputs": [],
   "source": [
    "def generator(z, parameters): \n",
    "    \"\"\"\n",
    "    Runs forward propagation on z and parameters.\n",
    "    \n",
    "    Arguments:\n",
    "    z -- noise\n",
    "    parameters -- neural net weights\n",
    "    \n",
    "    Returns:\n",
    "    z -- output of last activation layer\n",
    "    \"\"\"\n",
    "    z = z.t()\n",
    "    z = parameters['W1'] @ z + parameters['b1']\n",
    "    z = F.softplus(z)\n",
    "    z = parameters['W2'] @ z + parameters['b2']\n",
    "    z = F.softplus(z)\n",
    "    z = parameters['W3'] @ z + parameters['b3']\n",
    "    z = F.softplus(z)\n",
    "    z = parameters['W4'] @ z + parameters['b4']\n",
    "    z = F.tanh(z)\n",
    "    return z.t()"
   ]
  },
  {
   "cell_type": "code",
   "execution_count": 86,
   "metadata": {
    "collapsed": true
   },
   "outputs": [],
   "source": [
    "X = torch.sort(torch.Tensor(16384, 1).uniform_(-1, 1), dim=0)[0]\n",
    "Y = torch.sort(torch.Tensor(16384, 1).normal_(), dim=0)[0]\n",
    "# Y = torch.sort(torch.Tensor(16384, 1).uniform_(2, 3), dim=0)[0]\n",
    "dataset = torch.utils.data.TensorDataset(X, Y, )\n",
    "dataloader = torch.utils.data.DataLoader(dataset, batch_size=32, shuffle=True)\n",
    "parameters = {'W1': torch.nn.init.xavier_uniform_(torch.zeros((64,1), requires_grad=True)),\n",
    "              'b1': torch.nn.init.xavier_uniform_(torch.zeros((64, 1), requires_grad=True)),\n",
    "'W2': torch.nn.init.xavier_uniform_(torch.zeros((64,64), requires_grad=True)),\n",
    "              'b2': torch.nn.init.xavier_uniform_(torch.zeros((64, 1), requires_grad=True)),\n",
    "              'W3': torch.nn.init.xavier_uniform_(torch.zeros((64,64), requires_grad=True)),\n",
    "              'b3': torch.nn.init.xavier_uniform_(torch.zeros((64, 1), requires_grad=True)),\n",
    "    'W4': torch.nn.init.xavier_uniform_(torch.zeros((1, 64),requires_grad=True)),\n",
    "              'b4': torch.nn.init.xavier_uniform_(torch.zeros((1, 1), requires_grad=True)),\n",
    "}\n",
    "criterion = torch.nn.MSELoss()\n",
    "optimizer = optim.Adam(list(parameters.values()))"
   ]
  },
  {
   "cell_type": "code",
   "execution_count": 107,
   "metadata": {},
   "outputs": [
    {
     "name": "stdout",
     "output_type": "stream",
     "text": [
      "Epoch: 0, Batch: 100, Loss: 1.1509834662079812\n",
      "Epoch: 0, Batch: 200, Loss: 1.1078091323375703\n",
      "Epoch: 0, Batch: 300, Loss: 1.07460867613554\n",
      "Epoch: 0, Batch: 400, Loss: 1.1199711805582047\n",
      "Epoch: 0, Batch: 500, Loss: 1.1078906762599945\n",
      "Epoch: 10, Batch: 100, Loss: 1.1022065365314484\n",
      "Epoch: 10, Batch: 200, Loss: 1.1017107605934142\n",
      "Epoch: 10, Batch: 300, Loss: 1.113297313451767\n",
      "Epoch: 10, Batch: 400, Loss: 1.1180384689569474\n",
      "Epoch: 10, Batch: 500, Loss: 1.1358417302370072\n",
      "Epoch: 20, Batch: 100, Loss: 1.1335555094480514\n",
      "Epoch: 20, Batch: 200, Loss: 1.1145295313000678\n",
      "Epoch: 20, Batch: 300, Loss: 1.1103493690490722\n",
      "Epoch: 20, Batch: 400, Loss: 1.1189341965317725\n",
      "Epoch: 20, Batch: 500, Loss: 1.0890692949295044\n",
      "Epoch: 30, Batch: 100, Loss: 1.114173310995102\n",
      "Epoch: 30, Batch: 200, Loss: 1.0900609982013703\n",
      "Epoch: 30, Batch: 300, Loss: 1.1527364820241928\n",
      "Epoch: 30, Batch: 400, Loss: 1.1026414829492568\n",
      "Epoch: 30, Batch: 500, Loss: 1.1068765830993652\n",
      "Epoch: 40, Batch: 100, Loss: 1.1778959810733796\n",
      "Epoch: 40, Batch: 200, Loss: 1.113987625837326\n",
      "Epoch: 40, Batch: 300, Loss: 1.090972973704338\n",
      "Epoch: 40, Batch: 400, Loss: 1.0825196224451066\n",
      "Epoch: 40, Batch: 500, Loss: 1.0938333815336228\n"
     ]
    }
   ],
   "source": [
    "batch_mod = 100\n",
    "epoch_mod = 10\n",
    "for epoch in range(50):\n",
    "    running_loss = 0.0\n",
    "    optimizer.zero_grad() # Why...\n",
    "    for batch_idx, data in enumerate(dataloader):\n",
    "        inputs, labels = data\n",
    "#         outputs = generator(inputs, parameters)\n",
    "        outputs = gnet(inputs)\n",
    "        loss = criterion(outputs, labels)\n",
    "        loss.backward()\n",
    "        optimizer.step()\n",
    "        running_loss += loss.item()\n",
    "        if (batch_idx % batch_mod == 0 and batch_idx > 0 and epoch % epoch_mod == 0):\n",
    "            print(F\"Epoch: {epoch}, Batch: {batch_idx}, Loss: {running_loss/modulus}\")\n",
    "            running_loss = 0.0"
   ]
  },
  {
   "cell_type": "code",
   "execution_count": 105,
   "metadata": {},
   "outputs": [
    {
     "name": "stderr",
     "output_type": "stream",
     "text": [
      "/Users/richard/anaconda3/lib/python3.6/site-packages/torch/nn/functional.py:995: UserWarning: nn.functional.tanh is deprecated. Use torch.tanh instead.\n",
      "  warnings.warn(\"nn.functional.tanh is deprecated. Use torch.tanh instead.\")\n"
     ]
    },
    {
     "data": {
      "text/plain": [
       "[<matplotlib.lines.Line2D at 0x11e910ba8>]"
      ]
     },
     "execution_count": 105,
     "metadata": {},
     "output_type": "execute_result"
    },
    {
     "data": {
      "image/png": "[encoded data removed]",
      "text/plain": [
       "<matplotlib.figure.Figure at 0x11bded390>"
      ]
     },
     "metadata": {},
     "output_type": "display_data"
    }
   ],
   "source": [
    "plot(X.numpy())\n",
    "plot(Y.numpy())\n",
    "plot(generator(X, parameters).data.numpy())"
   ]
  },
  {
   "cell_type": "code",
   "execution_count": null,
   "metadata": {
    "collapsed": true
   },
   "outputs": [],
   "source": [
    "def discriminator(x, theta_d): \n",
    "    #x:=input sample\n",
    "    #theta_d:=neural net params\n",
    "    #Returns scalar probability that x comes from data rather than generator"
   ]
  },
  {
   "cell_type": "code",
   "execution_count": 14,
   "metadata": {
    "collapsed": true
   },
   "outputs": [],
   "source": [
    "class Net(torch.nn.Module):\n",
    "    def __init__(self):\n",
    "        super(Net, self).__init__()\n",
    "        self.conv1 = torch.nn.Conv2d(3, 6, 5)\n",
    "        self.pool = torch.nn.MaxPool2d(2, 2)\n",
    "        self.conv2 = torch.nn.Conv2d(6, 16, 5)\n",
    "        self.fc1 = torch.nn.Linear(16 * 5 * 5, 120)\n",
    "        self.fc2 = torch.nn.Linear(120, 84)\n",
    "        self.fc3 = torch.nn.Linear(84, 10)\n",
    "\n",
    "    def forward(self, x):\n",
    "        x = self.pool(F.relu(self.conv1(x)))\n",
    "        x = self.pool(F.relu(self.conv2(x)))\n",
    "        x = x.view(-1, 16 * 5 * 5)\n",
    "        x = F.relu(self.fc1(x))\n",
    "        x = F.relu(self.fc2(x))\n",
    "        x = self.fc3(x)\n",
    "        return x\n",
    "\n",
    "\n",
    "net = Net()"
   ]
  },
  {
   "cell_type": "code",
   "execution_count": 25,
   "metadata": {
    "collapsed": true
   },
   "outputs": [],
   "source": [
    "optimizer = optim.SGD(net.parameters(), lr=0.001, momentum=0.9)"
   ]
  },
  {
   "cell_type": "code",
   "execution_count": null,
   "metadata": {},
   "outputs": [],
   "source": []
  },
  {
   "cell_type": "code",
   "execution_count": null,
   "metadata": {
    "collapsed": true
   },
   "outputs": [],
   "source": []
  }
 ],
 "metadata": {
  "kernelspec": {
   "display_name": "Python 3",
   "language": "python",
   "name": "python3"
  },
  "language_info": {
   "codemirror_mode": {
    "name": "ipython",
    "version": 3
   },
   "file_extension": ".py",
   "mimetype": "text/x-python",
   "name": "python",
   "nbconvert_exporter": "python",
   "pygments_lexer": "ipython3",
   "version": "3.6.3"
  }
 },
 "nbformat": 4,
 "nbformat_minor": 2
}
