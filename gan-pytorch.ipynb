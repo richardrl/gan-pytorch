{
 "cells": [
  {
   "cell_type": "code",
   "execution_count": 1,
   "metadata": {},
   "outputs": [
    {
     "name": "stdout",
     "output_type": "stream",
     "text": [
      "Populating the interactive namespace from numpy and matplotlib\n"
     ]
    }
   ],
   "source": [
    "import torch\n",
    "import inspect\n",
    "import torch.optim as optim\n",
    "import torch.utils.data\n",
    "import torch.nn\n",
    "import torch.nn.functional as F\n",
    "%pylab inline"
   ]
  },
  {
   "cell_type": "code",
   "execution_count": 30,
   "metadata": {},
   "outputs": [],
   "source": [
    "class GeneratorNet(torch.nn.Module):\n",
    "    def __init__(self):\n",
    "        super(GeneratorNet, self).__init__()\n",
    "        self.fc1 = torch.nn.Linear(1, 64)\n",
    "        self.fc2 = torch.nn.Linear(64, 64)\n",
    "#         self.fc3 = torch.nn.Linear(64, 64)\n",
    "#         self.fc4 = torch.nn.Linear(64, 64)\n",
    "        self.fc5 = torch.nn.Linear(64, 1)\n",
    "\n",
    "    def forward(self, x):\n",
    "        x = self.fc1(x)\n",
    "        x = F.softplus(self.fc2(x))\n",
    "#         x = F.softplus(self.fc3(x))\n",
    "#         x = F.softplus(self.fc4(x))\n",
    "        x = self.fc5(x)\n",
    "        return x"
   ]
  },
  {
   "cell_type": "code",
   "execution_count": 25,
   "metadata": {
    "collapsed": true
   },
   "outputs": [],
   "source": [
    "def generator(z, parameters): \n",
    "    \"\"\"\n",
    "    Runs forward propagation on z and parameters.\n",
    "    \n",
    "    Arguments:\n",
    "    z -- noise\n",
    "    parameters -- neural net weights\n",
    "    \n",
    "    Returns:\n",
    "    z -- output of last activation layer\n",
    "    \"\"\"\n",
    "    z = z.t()\n",
    "    z = parameters['W1'] @ z + parameters['b1']\n",
    "    z = parameters['W2'] @ z + parameters['b2']\n",
    "    z = F.relu(z)\n",
    "#     z = parameters['W3'] @ z + parameters['b3']\n",
    "#     z = F.softplus(z)\n",
    "    z = parameters['W4'] @ z + parameters['b4']\n",
    "    return z.t()"
   ]
  },
  {
   "cell_type": "code",
   "execution_count": 26,
   "metadata": {},
   "outputs": [],
   "source": [
    "X = torch.sort(torch.Tensor(16384, 1).uniform_(-1, 1), dim=0)[0]\n",
    "Y = torch.sort(torch.Tensor(16384, 1).normal_(), dim=0)[0]\n",
    "# Y = torch.sort(torch.Tensor(16384, 1).uniform_(2, 3), dim=0)[0]\n",
    "dataset = torch.utils.data.TensorDataset(X, Y, )\n",
    "dataloader = torch.utils.data.DataLoader(dataset, batch_size=32, shuffle=True)\n",
    "parameters = {'W1': torch.nn.init.xavier_uniform_(torch.zeros((64,1), requires_grad=True)),\n",
    "              'b1': torch.nn.init.xavier_uniform_(torch.zeros((64, 1), requires_grad=True)),\n",
    "'W2': torch.nn.init.xavier_uniform_(torch.zeros((64,64), requires_grad=True)),\n",
    "              'b2': torch.nn.init.xavier_uniform_(torch.zeros((64, 1), requires_grad=True)),\n",
    "              'W3': torch.nn.init.xavier_uniform_(torch.zeros((64,64), requires_grad=True)),\n",
    "              'b3': torch.nn.init.xavier_uniform_(torch.zeros((64, 1), requires_grad=True)),\n",
    "    'W4': torch.nn.init.xavier_uniform_(torch.zeros((1, 64),requires_grad=True)),\n",
    "              'b4': torch.nn.init.xavier_uniform_(torch.zeros((1, 1), requires_grad=True)),\n",
    "}\n",
    "criterion = torch.nn.MSELoss()"
   ]
  },
  {
   "cell_type": "code",
   "execution_count": null,
   "metadata": {},
   "outputs": [
    {
     "name": "stdout",
     "output_type": "stream",
     "text": [
      "Epoch: 0, Batch: 300, Loss: 0.08971554941187303\n",
      "Epoch: 2, Batch: 300, Loss: 0.01555620544628861\n",
      "Epoch: 4, Batch: 300, Loss: 0.006703700208648419\n"
     ]
    }
   ],
   "source": [
    "gnet = GeneratorNet()\n",
    "# optimizer = optim.Adam(list(parameters.values()))\n",
    "optimizer = optim.Adam(gnet.parameters())\n",
    "\n",
    "batch_mod = 300\n",
    "epoch_mod = 2\n",
    "for epoch in range(50):\n",
    "    running_loss = 0.0\n",
    "    for batch_idx, data in enumerate(dataloader):\n",
    "        inputs, labels = data\n",
    "#         outputs = generator(inputs, parameters)\n",
    "        outputs = gnet(inputs)\n",
    "        loss = criterion(outputs, labels)\n",
    "        loss.backward()\n",
    "        optimizer.step()\n",
    "        optimizer.zero_grad() # Why...\n",
    "        running_loss += loss.item()\n",
    "        if (batch_idx % batch_mod == 0 and batch_idx > 0 and epoch % epoch_mod == 0):\n",
    "            print(F\"Epoch: {epoch}, Batch: {batch_idx}, Loss: {running_loss/batch_mod}\")\n",
    "            running_loss = 0.0"
   ]
  },
  {
   "cell_type": "code",
   "execution_count": 28,
   "metadata": {},
   "outputs": [
    {
     "data": {
      "text/plain": [
       "[<matplotlib.lines.Line2D at 0x117c33be0>]"
      ]
     },
     "execution_count": 28,
     "metadata": {},
     "output_type": "execute_result"
    },
    {
     "data": {
      "image/png": "[encoded data removed]",
      "text/plain": [
       "<matplotlib.figure.Figure at 0x11750ba90>"
      ]
     },
     "metadata": {},
     "output_type": "display_data"
    }
   ],
   "source": [
    "plot(X.numpy())\n",
    "plot(Y.numpy())\n",
    "plot(generator(X, parameters).data.numpy())"
   ]
  },
  {
   "cell_type": "code",
   "execution_count": null,
   "metadata": {
    "collapsed": true
   },
   "outputs": [],
   "source": [
    "def discriminator(x, theta_d): \n",
    "    #x:=input sample\n",
    "    #theta_d:=neural net params\n",
    "    #Returns scalar probability that x comes from data rather than generator"
   ]
  },
  {
   "cell_type": "code",
   "execution_count": null,
   "metadata": {
    "collapsed": true
   },
   "outputs": [],
   "source": [
    "class Net(torch.nn.Module):\n",
    "    def __init__(self):\n",
    "        super(Net, self).__init__()\n",
    "        self.conv1 = torch.nn.Conv2d(3, 6, 5)\n",
    "        self.pool = torch.nn.MaxPool2d(2, 2)\n",
    "        self.conv2 = torch.nn.Conv2d(6, 16, 5)\n",
    "        self.fc1 = torch.nn.Linear(16 * 5 * 5, 120)\n",
    "        self.fc2 = torch.nn.Linear(120, 84)\n",
    "        self.fc3 = torch.nn.Linear(84, 10)\n",
    "\n",
    "    def forward(self, x):\n",
    "        x = self.pool(F.relu(self.conv1(x)))\n",
    "        x = self.pool(F.relu(self.conv2(x)))\n",
    "        x = x.view(-1, 16 * 5 * 5)\n",
    "        x = F.relu(self.fc1(x))\n",
    "        x = F.relu(self.fc2(x))\n",
    "        x = self.fc3(x)\n",
    "        return x\n",
    "\n",
    "\n",
    "net = Net()"
   ]
  },
  {
   "cell_type": "code",
   "execution_count": null,
   "metadata": {
    "collapsed": true
   },
   "outputs": [],
   "source": [
    "optimizer = optim.SGD(net.parameters(), lr=0.001, momentum=0.9)"
   ]
  },
  {
   "cell_type": "code",
   "execution_count": null,
   "metadata": {
    "collapsed": true
   },
   "outputs": [],
   "source": []
  }
 ],
 "metadata": {
  "kernelspec": {
   "display_name": "Python 3",
   "language": "python",
   "name": "python3"
  },
  "language_info": {
   "codemirror_mode": {
    "name": "ipython",
    "version": 3
   },
   "file_extension": ".py",
   "mimetype": "text/x-python",
   "name": "python",
   "nbconvert_exporter": "python",
   "pygments_lexer": "ipython3",
   "version": "3.6.3"
  }
 },
 "nbformat": 4,
 "nbformat_minor": 2
}
