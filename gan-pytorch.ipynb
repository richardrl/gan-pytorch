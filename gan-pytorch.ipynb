{
 "cells": [
  {
   "cell_type": "code",
   "execution_count": 2,
   "metadata": {},
   "outputs": [
    {
     "name": "stdout",
     "output_type": "stream",
     "text": [
      "Populating the interactive namespace from numpy and matplotlib\n"
     ]
    }
   ],
   "source": [
    "import torch\n",
    "import inspect\n",
    "import torch.optim as optim\n",
    "import torch.utils.data\n",
    "import torch.nn as nn\n",
    "import torch.nn.functional as F\n",
    "import torch.nn.modules.activation as A\n",
    "from tqdm import tqdm\n",
    "%pylab inline\n",
    "import torchvision\n",
    "import torchvision.transforms as transforms\n",
    "from livelossplot import PlotLosses\n",
    "import os, errno"
   ]
  },
  {
   "cell_type": "code",
   "execution_count": 3,
   "metadata": {},
   "outputs": [
    {
     "name": "stdout",
     "output_type": "stream",
     "text": [
      "Files already downloaded and verified\n"
     ]
    }
   ],
   "source": [
    "mnist_data = torchvision.datasets.MNIST('./datasets/mnist', download=True, train=True,\n",
    "                                           transform=transforms.Compose([\n",
    "                           transforms.ToTensor(),\n",
    "                           transforms.Normalize((0.1307,), (0.3081,))\n",
    "                       ]))\n",
    "mnist_loader = torch.utils.data.DataLoader(mnist_data, batch_size=32, shuffle=True)\n",
    "cifar_data = torchvision.datasets.CIFAR10('./datasets/cifar10', download=True, train=True, \\\n",
    "                                          transform=transforms.Compose([\n",
    "#                                               transforms.Resize(64),\n",
    "                                              transforms.ToTensor(), \n",
    "                                              transforms.Normalize((0.5, 0.5, 0.5), (0.5, 0.5, 0.5))]))\n",
    "cifar_loader = torch.utils.data.DataLoader(cifar_data, batch_size=64, shuffle=True)"
   ]
  },
  {
   "cell_type": "code",
   "execution_count": 4,
   "metadata": {},
   "outputs": [
    {
     "data": {
      "text/plain": [
       "torch.Size([32, 1, 28, 28])"
      ]
     },
     "execution_count": 4,
     "metadata": {},
     "output_type": "execute_result"
    }
   ],
   "source": [
    "list(mnist_loader)[3][0].shape"
   ]
  },
  {
   "cell_type": "code",
   "execution_count": 5,
   "metadata": {
    "collapsed": true
   },
   "outputs": [],
   "source": [
    "def unpickle(file):\n",
    "    import pickle\n",
    "    with open(file, 'rb') as fo:\n",
    "        dict = pickle.load(fo, encoding='bytes')\n",
    "    return dict\n",
    "\n",
    "# cifar10_path = \"./cifar-10-batches-py/\"\n",
    "# batch1 = unpickle(cifar10_path + 'data_batch_1')\n",
    "# import matplotlib.pyplot as plt\n",
    "# b = batch1[b'data'][4].reshape(3, 32, 32).transpose(1,2,0).astype(\"uint8\")\n",
    "# # plt.imshow(b)\n",
    "# b1_reshaped = batch1[b'data'].reshape(batch1[b'data'].shape[0], 3, 32, 32)\n",
    "# b1_reshaped[0].shape\n",
    "# plt.imshow(b1_reshaped[1000].transpose(1, 2, 0))\n",
    "# b1_reshaped[0]"
   ]
  },
  {
   "cell_type": "code",
   "execution_count": 6,
   "metadata": {
    "collapsed": true
   },
   "outputs": [],
   "source": [
    "def makeChannels(max_channel, reverse=False, num_channels=3):\n",
    "    assert max_channel % 2==0\n",
    "    channels = [max_channel]\n",
    "    for i in range(1,num_channels):\n",
    "        channels.append(channels[i-1]//2)\n",
    "    if reverse:\n",
    "        channels.reverse()\n",
    "        return channels\n",
    "    return channels\n",
    "\n",
    "class GeneratorNet(nn.Module):\n",
    "    def __init__(self, cz=100, gf_dim=64, img_channels=3, img_size=64):\n",
    "        super(GeneratorNet, self).__init__()\n",
    "        channels = makeChannels(8*gf_dim, num_channels=4)\n",
    "        print(\"G channels \" + str(channels))\n",
    "        layer_list = [\n",
    "            # Project and reshape\n",
    "            nn.ConvTranspose2d(cz, channels[0], 4, 1, 0, bias=False),\n",
    "            A.ReLU(True),\n",
    "            nn.BatchNorm2d(channels[0]),\n",
    "            # Conv1. (?, channels[0], 4, 4) -> (?, channels[1], 8, 8)\n",
    "            nn.ConvTranspose2d(channels[0], channels[1], 4, 2, 1, bias=False),\n",
    "            A.ReLU(True),\n",
    "            nn.BatchNorm2d(channels[1]),\n",
    "            # Conv2. (?, channels[1], 8, 8) -> (?, channels[2], 16, 16)\n",
    "            nn.ConvTranspose2d(channels[1], channels[2], 4, 2, 1, bias=False),\n",
    "            A.ReLU(True),\n",
    "            nn.BatchNorm2d(channels[2])]\n",
    "        \n",
    "        if img_size==28:\n",
    "            layer_list.extend([\n",
    "                    ### MNIST (?, channels[2], 16, 16) -> (?, img_channels=1, 28, 28) \n",
    "                    nn.ConvTranspose2d(channels[2], img_channels, 4, 2, 3, bias=False),\n",
    "                    A.Tanh()\n",
    "                ]\n",
    "            )\n",
    "        elif img_size==32:\n",
    "            layer_list.extend([\n",
    "                    ## CIFAR (?, channels[2], 16, 16) -> (?, img_channels=3, 32, 32)\n",
    "                    nn.ConvTranspose2d(channels[2], img_channels, 4, 2, 1, bias=True),            \n",
    "                    A.Tanh()\n",
    "                ])\n",
    "        elif img_size==64:\n",
    "            layer_list.extend([\n",
    "                    #  Conv3. (?, channels[2], 16, 16) -> (?, channels[3], 32, 32)\n",
    "                    nn.ConvTranspose2d(channels[2], channels[3], 4, 2, 1, bias=False),\n",
    "                    A.ReLU(True),\n",
    "                    nn.BatchNorm2d(channels[3]),\n",
    "                    #  Conv4. (?, channels[3], 32, 32) -> (?, 3, 64, 64)\n",
    "                    nn.ConvTranspose2d(channels[3], img_channels, 4, 2, 1, bias=False),\n",
    "                    A.Tanh()\n",
    "            ]\n",
    "            )\n",
    "        self.model = nn.Sequential(*layer_list)\n",
    "        \n",
    "    def forward(self, z):\n",
    "        \"\"\"\n",
    "        Input: \n",
    "            - z: minibatch of 1D noise vectors/\"codes\"\n",
    "        Shapes:\n",
    "            - z: (N, C) where N is batch_size and C is channels of z.\n",
    "        \"\"\"\n",
    "        return self.model(z)\n",
    "\n",
    "class DiscriminatorNet(nn.Module):\n",
    "    def __init__(self, gf_dim=64, img_channels=3, img_size=64):\n",
    "        super(DiscriminatorNet, self).__init__()\n",
    "        channels = makeChannels(8*gf_dim, num_channels=4, reverse=True)\n",
    "        print(\"D channels \" + str(channels))\n",
    "        layer_list = [\n",
    "            # Project image \n",
    "            nn.Conv2d(img_channels, channels[0], 4, 2, 1, bias=False),\n",
    "            nn.LeakyReLU(0.2, inplace=True),\n",
    "            # conv1\n",
    "            nn.Conv2d(channels[0], channels[1], 4, 2, 1, bias=False),\n",
    "            nn.LeakyReLU(0.2, inplace=True),\n",
    "            nn.BatchNorm2d(channels[1]),\n",
    "            # Conv2\n",
    "            nn.Conv2d(channels[1], channels[2], 4, 2, 1, bias=False),\n",
    "            nn.LeakyReLU(0.2, inplace=True),\n",
    "            nn.BatchNorm2d(channels[2]),\n",
    "        ]\n",
    "        \n",
    "        if img_size==28:\n",
    "            layer_list.extend([\n",
    "                nn.Conv2d(channels[2], 1, 3, 1, 0, bias=False),\n",
    "                nn.Sigmoid()\n",
    "                ]\n",
    "            )\n",
    "        elif img_size==32:\n",
    "            layer_list.extend([\n",
    "                nn.Conv2d(channels[2], 1, 4, 1, 0, bias=False),\n",
    "                nn.Sigmoid()\n",
    "                ]\n",
    "            )  \n",
    "        elif img_size==64:\n",
    "            layer_list.extend([\n",
    "                nn.Conv2d(channels[2], channels[3], 4, 2, 1, bias=False),\n",
    "                nn.LeakyReLU(0.2, inplace=True),\n",
    "                nn.BatchNorm2d(channels[3]),\n",
    "\n",
    "                nn.Conv2d(channels[3], 1, 4, 1, 0, bias=False),\n",
    "                nn.Sigmoid()\n",
    "                ]\n",
    "            )\n",
    "        self.model = nn.Sequential(*layer_list)\n",
    "        \n",
    "        \n",
    "    def forward(self, x):\n",
    "        return self.model(x).view(-1, 1).squeeze(1)"
   ]
  },
  {
   "cell_type": "code",
   "execution_count": 7,
   "metadata": {},
   "outputs": [
    {
     "name": "stdout",
     "output_type": "stream",
     "text": [
      "G channels [512, 256, 128, 64]\n",
      "D channels [64, 128, 256, 512]\n"
     ]
    }
   ],
   "source": [
    "img_channels=1\n",
    "device = torch.device(\"cuda:0\" if torch.cuda.is_available() else \"cpu\")\n",
    "G=GeneratorNet(cz=100, gf_dim=64, img_channels=img_channels, img_size=28)\n",
    "D=DiscriminatorNet(img_channels=img_channels, img_size=28)\n",
    "gopt = optim.Adam(G.parameters(), lr=0.0002, betas=(.5, .999))\n",
    "dopt = optim.Adam(D.parameters(), lr=0.0002, betas=(.5, .999))\n",
    "\n",
    "criterion = nn.BCELoss()"
   ]
  },
  {
   "cell_type": "code",
   "execution_count": 8,
   "metadata": {
    "collapsed": true
   },
   "outputs": [],
   "source": [
    "# custom weights initialization called on netG and netD\n",
    "def weights_init(m):\n",
    "    classname = m.__class__.__name__\n",
    "    if classname.find('Conv') != -1:\n",
    "        m.weight.data.normal_(0.0, 0.02)\n",
    "    elif classname.find('BatchNorm') != -1:\n",
    "        m.weight.data.normal_(1.0, 0.02)\n",
    "        m.bias.data.fill_(0)\n",
    "        \n",
    "import re\n",
    "def latest_checkpoint(folder):\n",
    "#     import ipdb; ipdb.set_trace()\n",
    "    walk = list(os.walk(folder))\n",
    "    if not walk:\n",
    "        return None\n",
    "    _, _, files = walk[0]\n",
    "    regex = re.compile(r'epoch\\d+_mbatch\\d+')\n",
    "    files = list(filter(regex.search, files))\n",
    "    files = sorted(files, key=lambda x: [int(num) for num in re.findall(r'\\d+', x)], reverse=True)\n",
    "    return folder + \"/\" + files[0] if len(files) > 0 else None\n",
    "\n",
    "# latest_checkpoint(\"./chkpts/D\")"
   ]
  },
  {
   "cell_type": "code",
   "execution_count": 16,
   "metadata": {
    "scrolled": false
   },
   "outputs": [
    {
     "data": {
      "image/png": "[encoded data removed]",
      "text/plain": [
       "<matplotlib.figure.Figure at 0x11fe74048>"
      ]
     },
     "metadata": {},
     "output_type": "display_data"
    },
    {
     "name": "stderr",
     "output_type": "stream",
     "text": [
      "45it [00:32,  1.39it/s]\n"
     ]
    },
    {
     "ename": "KeyboardInterrupt",
     "evalue": "",
     "output_type": "error",
     "traceback": [
      "\u001b[0;31m---------------------------------------------------------------------------\u001b[0m",
      "\u001b[0;31mKeyboardInterrupt\u001b[0m                         Traceback (most recent call last)",
      "\u001b[0;32m<ipython-input-16-fde2853d8d6a>\u001b[0m in \u001b[0;36m<module>\u001b[0;34m()\u001b[0m\n\u001b[1;32m     50\u001b[0m         \u001b[0mG\u001b[0m\u001b[0;34m.\u001b[0m\u001b[0mzero_grad\u001b[0m\u001b[0;34m(\u001b[0m\u001b[0;34m)\u001b[0m\u001b[0;34m\u001b[0m\u001b[0m\n\u001b[1;32m     51\u001b[0m         \u001b[0mgloss\u001b[0m \u001b[0;34m=\u001b[0m \u001b[0mcriterion\u001b[0m\u001b[0;34m(\u001b[0m\u001b[0mD\u001b[0m\u001b[0;34m(\u001b[0m\u001b[0mfake\u001b[0m\u001b[0;34m)\u001b[0m\u001b[0;34m,\u001b[0m \u001b[0mtorch\u001b[0m\u001b[0;34m.\u001b[0m\u001b[0mones\u001b[0m\u001b[0;34m(\u001b[0m\u001b[0mx\u001b[0m\u001b[0;34m.\u001b[0m\u001b[0mshape\u001b[0m\u001b[0;34m[\u001b[0m\u001b[0;36m0\u001b[0m\u001b[0;34m]\u001b[0m\u001b[0;34m)\u001b[0m\u001b[0;34m)\u001b[0m\u001b[0;34m\u001b[0m\u001b[0m\n\u001b[0;32m---> 52\u001b[0;31m         \u001b[0mgloss\u001b[0m\u001b[0;34m.\u001b[0m\u001b[0mbackward\u001b[0m\u001b[0;34m(\u001b[0m\u001b[0;34m)\u001b[0m\u001b[0;34m\u001b[0m\u001b[0m\n\u001b[0m\u001b[1;32m     53\u001b[0m \u001b[0;34m\u001b[0m\u001b[0m\n\u001b[1;32m     54\u001b[0m         \u001b[0mgopt\u001b[0m\u001b[0;34m.\u001b[0m\u001b[0mstep\u001b[0m\u001b[0;34m(\u001b[0m\u001b[0;34m)\u001b[0m\u001b[0;34m\u001b[0m\u001b[0m\n",
      "\u001b[0;32m~/anaconda3/lib/python3.6/site-packages/torch/tensor.py\u001b[0m in \u001b[0;36mbackward\u001b[0;34m(self, gradient, retain_graph, create_graph)\u001b[0m\n\u001b[1;32m     91\u001b[0m                 \u001b[0mproducts\u001b[0m\u001b[0;34m.\u001b[0m \u001b[0mDefaults\u001b[0m \u001b[0mto\u001b[0m\u001b[0;31m \u001b[0m\u001b[0;31m`\u001b[0m\u001b[0;31m`\u001b[0m\u001b[0;32mFalse\u001b[0m\u001b[0;31m`\u001b[0m\u001b[0;31m`\u001b[0m\u001b[0;34m.\u001b[0m\u001b[0;34m\u001b[0m\u001b[0m\n\u001b[1;32m     92\u001b[0m         \"\"\"\n\u001b[0;32m---> 93\u001b[0;31m         \u001b[0mtorch\u001b[0m\u001b[0;34m.\u001b[0m\u001b[0mautograd\u001b[0m\u001b[0;34m.\u001b[0m\u001b[0mbackward\u001b[0m\u001b[0;34m(\u001b[0m\u001b[0mself\u001b[0m\u001b[0;34m,\u001b[0m \u001b[0mgradient\u001b[0m\u001b[0;34m,\u001b[0m \u001b[0mretain_graph\u001b[0m\u001b[0;34m,\u001b[0m \u001b[0mcreate_graph\u001b[0m\u001b[0;34m)\u001b[0m\u001b[0;34m\u001b[0m\u001b[0m\n\u001b[0m\u001b[1;32m     94\u001b[0m \u001b[0;34m\u001b[0m\u001b[0m\n\u001b[1;32m     95\u001b[0m     \u001b[0;32mdef\u001b[0m \u001b[0mregister_hook\u001b[0m\u001b[0;34m(\u001b[0m\u001b[0mself\u001b[0m\u001b[0;34m,\u001b[0m \u001b[0mhook\u001b[0m\u001b[0;34m)\u001b[0m\u001b[0;34m:\u001b[0m\u001b[0;34m\u001b[0m\u001b[0m\n",
      "\u001b[0;32m~/anaconda3/lib/python3.6/site-packages/torch/autograd/__init__.py\u001b[0m in \u001b[0;36mbackward\u001b[0;34m(tensors, grad_tensors, retain_graph, create_graph, grad_variables)\u001b[0m\n\u001b[1;32m     88\u001b[0m     Variable._execution_engine.run_backward(\n\u001b[1;32m     89\u001b[0m         \u001b[0mtensors\u001b[0m\u001b[0;34m,\u001b[0m \u001b[0mgrad_tensors\u001b[0m\u001b[0;34m,\u001b[0m \u001b[0mretain_graph\u001b[0m\u001b[0;34m,\u001b[0m \u001b[0mcreate_graph\u001b[0m\u001b[0;34m,\u001b[0m\u001b[0;34m\u001b[0m\u001b[0m\n\u001b[0;32m---> 90\u001b[0;31m         allow_unreachable=True)  # allow_unreachable flag\n\u001b[0m\u001b[1;32m     91\u001b[0m \u001b[0;34m\u001b[0m\u001b[0m\n\u001b[1;32m     92\u001b[0m \u001b[0;34m\u001b[0m\u001b[0m\n",
      "\u001b[0;31mKeyboardInterrupt\u001b[0m: "
     ]
    }
   ],
   "source": [
    "liveloss = PlotLosses()\n",
    "\n",
    "mbatch_mod = 10\n",
    "cz=100\n",
    "epoch_mod = 2\n",
    "checkpt_dir = \"./checkpoints/\"\n",
    "\n",
    "### LOAD CHECKPOINT ###\n",
    "checkD = latest_checkpoint(checkpt_dir + \"D\")\n",
    "checkG = latest_checkpoint(checkpt_dir + \"G\")\n",
    "start_epoch = 0\n",
    "start_mbatch = 0\n",
    "if checkD and checkG:\n",
    "    print(\"Resuming training with \" + str(checkD) + \" \" + str(checkG))\n",
    "    G.load_state_dict(torch.load(checkG))\n",
    "    D.load_state_dict(torch.load(checkD))\n",
    "    start_epoch, start_mbatch = [int(num) for num in re.findall(r'\\d+', checkD)]\n",
    "G.apply(weights_init)\n",
    "D.apply(weights_init)\n",
    "\n",
    "running_dloss = 0.0\n",
    "running_gloss = 0.0\n",
    "for epoch in range(100):\n",
    "    for mbatch_idx, x in tqdm(enumerate(mnist_loader)):\n",
    "        ##############################\n",
    "        # Update discriminator \n",
    "        ##############################\n",
    "        D.zero_grad()\n",
    "        x = x[0]\n",
    "        x = x.to(device, dtype=torch.float32)\n",
    "        batch_size = x.shape[0]\n",
    "        real_loss = criterion(D(x), torch.ones(x.shape[0]))\n",
    "        real_loss.backward()\n",
    "        \n",
    "#         z = torch.zeros([x.shape[0], cz, 1, 1]).uniform_(0, 1)\n",
    "        z = torch.randn(batch_size, cz, 1, 1)\n",
    "        fake = G(z)\n",
    "        generated_loss = criterion(D(fake.detach()), torch.zeros(x.shape[0]))\n",
    "        generated_loss.backward()\n",
    "\n",
    "        dloss = real_loss.item() + generated_loss.item()\n",
    "\n",
    "        dopt.step()\n",
    "#         dopt.zero_grad()\n",
    "        \n",
    "        ##############################\n",
    "        # Update generator\n",
    "        ##############################\n",
    "#         z = torch.zeros([x.shape[0], cz, 1, 1]).uniform_(0, 1) \n",
    "        G.zero_grad()\n",
    "        gloss = criterion(D(fake), torch.ones(x.shape[0]))\n",
    "        gloss.backward()\n",
    "        \n",
    "        gopt.step()\n",
    "#         gopt.zero_grad()\n",
    "        \n",
    "        running_dloss += dloss\n",
    "        running_gloss += gloss\n",
    "        if (mbatch_idx % mbatch_mod == 0 and mbatch_idx > 0 and epoch % epoch_mod == 0):\n",
    "            \n",
    "            print(F\"Epoch: {epoch}, minibatch: {mbatch_idx}, DLoss: {running_dloss/mbatch_mod}, GLoss: {running_gloss/mbatch_mod}\")\n",
    "            if not os.path.exists(F\"{checkpt_dir}G\"):\n",
    "                os.makedirs(F\"{checkpt_dir}G\")\n",
    "            if not os.path.exists(F\"{checkpt_dir}D\"):\n",
    "                os.makedirs(F\"{checkpt_dir}D\")\n",
    "            torch.save(G.state_dict(), F\"{checkpt_dir}G/epoch{start_epoch + epoch}_mbatch{start_mbatch + mbatch_idx}.pth\")\n",
    "            torch.save(D.state_dict(), F\"{checkpt_dir}D/epoch{start_epoch + epoch}_mbatch{start_mbatch + mbatch_idx}.pth\")\n",
    "            liveloss.update({\n",
    "                'D loss':running_dloss/mbatch_mod,\n",
    "                'G loss':running_gloss/mbatch_mod,\n",
    "            }\n",
    "            )\n",
    "            running_dloss = 0.0\n",
    "            running_gloss = 0.0\n",
    "            liveloss.draw()"
   ]
  },
  {
   "cell_type": "code",
   "execution_count": null,
   "metadata": {
    "collapsed": true
   },
   "outputs": [],
   "source": [
    "testimg = list(mnist_loader)[0][0]"
   ]
  },
  {
   "cell_type": "code",
   "execution_count": 12,
   "metadata": {},
   "outputs": [
    {
     "data": {
      "text/plain": [
       "torch.Size([32, 1, 28, 28])"
      ]
     },
     "execution_count": 12,
     "metadata": {},
     "output_type": "execute_result"
    }
   ],
   "source": [
    "import torchvision.utils as vutils\n",
    "# z = torch.zeros([32, 100, 1, 1]).uniform_(0, 1)\n",
    "z = torch.randn(batch_size, cz, 1, 1)\n",
    "gen = G(z)\n",
    "vutils.save_image(gen.detach(), 'fake_samples.png', normalize=True)\n",
    "# D(gen).shape\n",
    "gen.shape"
   ]
  },
  {
   "cell_type": "markdown",
   "metadata": {
    "collapsed": true
   },
   "source": [
    "# Notes\n",
    "\n",
    "1. Why does zero'ing out G before update logic lead to much higher GLoss compared to gopt.zero_grad()? (Before doing this, wasn't learning)\n",
    "3. Resizing 32x32 CIFAR to 64x64 doesn't make difference\n",
    "4. Weight_init leads to higher starting +2/3 GLoss and +.5 DLoss\n",
    "5. Make sure channels cascade in right directions\n",
    "6. Normal distribution noise supresses DLoss growth\n",
    "7. BatchNorm after activation reduces variance of loss much better compared to pre-activation batchnorm"
   ]
  },
  {
   "cell_type": "code",
   "execution_count": null,
   "metadata": {
    "collapsed": true
   },
   "outputs": [],
   "source": []
  }
 ],
 "metadata": {
  "kernelspec": {
   "display_name": "Python 3",
   "language": "python",
   "name": "python3"
  },
  "language_info": {
   "codemirror_mode": {
    "name": "ipython",
    "version": 3
   },
   "file_extension": ".py",
   "mimetype": "text/x-python",
   "name": "python",
   "nbconvert_exporter": "python",
   "pygments_lexer": "ipython3",
   "version": "3.6.3"
  }
 },
 "nbformat": 4,
 "nbformat_minor": 2
}
